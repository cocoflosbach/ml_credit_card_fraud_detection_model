{
 "cells": [
  {
   "cell_type": "markdown",
   "id": "009694ff-379a-4c3e-a491-f89b1f876621",
   "metadata": {},
   "source": [
    "## ML Model for Credit Card Fraud Detection\n",
    "The aim of this model is to recognise and classify fraudulent credit card transactions. This model must be simple and fast considering the vast amount of data processed daily. The model must also be easy to adjust against scammer adaptability."
   ]
  },
  {
   "cell_type": "code",
   "execution_count": 1,
   "id": "bf3b8e61-7238-48f4-804a-875c027aee27",
   "metadata": {},
   "outputs": [],
   "source": [
    "# Importing all important packages\n",
    "\n",
    "import numpy as np\n",
    "import pandas as pd\n",
    "import matplotlib.pyplot as plt\n",
    "import seaborn as sns\n",
    "from matplotlib import gridspec"
   ]
  },
  {
   "cell_type": "code",
   "execution_count": null,
   "id": "990b0e99-dd43-4dae-af08-2654d971418f",
   "metadata": {},
   "outputs": [],
   "source": [
    "# Loading the dataset from the "
   ]
  }
 ],
 "metadata": {
  "kernelspec": {
   "display_name": "Python 3 (ipykernel)",
   "language": "python",
   "name": "python3"
  },
  "language_info": {
   "codemirror_mode": {
    "name": "ipython",
    "version": 3
   },
   "file_extension": ".py",
   "mimetype": "text/x-python",
   "name": "python",
   "nbconvert_exporter": "python",
   "pygments_lexer": "ipython3",
   "version": "3.12.4"
  }
 },
 "nbformat": 4,
 "nbformat_minor": 5
}
